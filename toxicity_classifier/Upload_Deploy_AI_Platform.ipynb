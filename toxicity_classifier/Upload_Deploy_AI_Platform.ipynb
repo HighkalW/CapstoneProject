{
  "nbformat": 4,
  "nbformat_minor": 0,
  "metadata": {
    "colab": {
      "name": "Upload_Deploy_AI_Platform.ipynb",
      "provenance": [],
      "collapsed_sections": [],
      "authorship_tag": "ABX9TyO44ypIVtyKc/KQWU7ChNs7",
      "include_colab_link": true
    },
    "kernelspec": {
      "name": "python3",
      "display_name": "Python 3"
    },
    "language_info": {
      "name": "python"
    }
  },
  "cells": [
    {
      "cell_type": "markdown",
      "metadata": {
        "id": "view-in-github",
        "colab_type": "text"
      },
      "source": [
        "<a href=\"https://colab.research.google.com/github/HighkalW/CapstoneProject/blob/flask-server/toxicity_classifier/Upload_Deploy_AI_Platform.ipynb\" target=\"_parent\"><img src=\"https://colab.research.google.com/assets/colab-badge.svg\" alt=\"Open In Colab\"/></a>"
      ]
    },
    {
      "cell_type": "code",
      "execution_count": 4,
      "metadata": {
        "id": "qsLJ4cGdbHmx"
      },
      "outputs": [],
      "source": [
        "from google.colab import auth\n",
        "auth.authenticate_user()"
      ]
    },
    {
      "cell_type": "code",
      "source": [
        "!curl https://sdk.cloud.google.com | bash 1> /dev/null\n",
        "!gcloud init"
      ],
      "metadata": {
        "colab": {
          "base_uri": "https://localhost:8080/"
        },
        "id": "sDGHTntMbJvX",
        "outputId": "e40d526d-cfd6-4f5d-bdb6-a70fa36b8636"
      },
      "execution_count": 5,
      "outputs": [
        {
          "output_type": "stream",
          "name": "stdout",
          "text": [
            "  % Total    % Received % Xferd  Average Speed   Time    Time     Time  Current\n",
            "                                 Dload  Upload   Total   Spent    Left  Speed\n",
            "\r  0     0    0     0    0     0      0      0 --:--:-- --:--:-- --:--:--     0\r100   443  100   443    0     0  20136      0 --:--:-- --:--:-- --:--:-- 20136\n",
            "\r######################################################################## 100.0%\n",
            "which curl\n",
            "curl -# -f https://dl.google.com/dl/cloudsdk/channels/rapid/google-cloud-sdk.tar.gz\n",
            "######################################################################## 100.0%\n",
            "mkdir -p /root\n",
            "\"/root/google-cloud-sdk\" already exists and may contain out of date files.\n",
            "Remove /root/google-cloud-sdk or select a new installation directory, then run again.\n",
            "Welcome! This command will take you through the configuration of gcloud.\n",
            "\n",
            "Settings from your current configuration [default] are:\n",
            "component_manager:\n",
            "  disable_update_check: 'True'\n",
            "core:\n",
            "  account: Felix.ganumba@gmail.com\n",
            "  project: nawara-351814\n",
            "\n",
            "Pick configuration to use:\n",
            " [1] Re-initialize this configuration [default] with new settings \n",
            " [2] Create a new configuration\n",
            "Please enter your numeric choice:  1\n",
            "\n",
            "Your current configuration has been set to: [default]\n",
            "\n",
            "You can skip diagnostics next time by using the following flag:\n",
            "  gcloud init --skip-diagnostics\n",
            "\n",
            "Network diagnostic detects and fixes local network connection issues.\n",
            "Reachability Check passed.\n",
            "Network diagnostic passed (1/1 checks passed).\n",
            "\n",
            "Choose the account you would like to use to perform operations for this \n",
            "configuration:\n",
            " [1] Felix.ganumba@gmail.com\n",
            " [2] Log in with a new account\n",
            "Please enter your numeric choice:  1\n",
            "\n",
            "You are logged in as: [Felix.ganumba@gmail.com].\n",
            "\n",
            "Pick cloud project to use: \n",
            " [1] nawara-351814\n",
            " [2] storied-parser-340014\n",
            " [3] zippy-zenith-334613\n",
            " [4] Enter a project ID\n",
            " [5] Create a new project\n",
            "Please enter numeric choice or text value (must exactly match list item):  1\n",
            "\n",
            "Your current project has been set to: [nawara-351814].\n",
            "\n",
            "Not setting default zone/region (this feature makes it easier to use\n",
            "[gcloud compute] by setting an appropriate default value for the\n",
            "--zone and --region flag).\n",
            "See https://cloud.google.com/compute/docs/gcloud-compute section on how to set\n",
            "default compute region and zone manually. If you would like [gcloud init] to be\n",
            "able to do this for you the next time you run it, make sure the\n",
            "Compute Engine API is enabled for your project on the\n",
            "https://console.developers.google.com/apis page.\n",
            "\n",
            "Your Google Cloud SDK is configured and ready to use!\n",
            "\n",
            "* Commands that require authentication will use Felix.ganumba@gmail.com by default\n",
            "* Commands will reference project `nawara-351814` by default\n",
            "Run `gcloud help config` to learn how to change individual settings\n",
            "\n",
            "This gcloud configuration is called [default]. You can create additional configurations if you work with multiple accounts and/or projects.\n",
            "Run `gcloud topic configurations` to learn more.\n",
            "\n",
            "Some things to try next:\n",
            "\n",
            "* Run `gcloud --help` to see the Cloud Platform services you can interact with. And run `gcloud help COMMAND` to get help on any gcloud command.\n",
            "* Run `gcloud topic --help` to learn about advanced features of the SDK like arg files and output formatting\n",
            "* Run `gcloud cheat-sheet` to see a roster of go-to `gcloud` commands.\n"
          ]
        }
      ]
    },
    {
      "cell_type": "code",
      "source": [
        "!git clone https://github.com/HighkalW/CapstoneProject.git"
      ],
      "metadata": {
        "id": "V_LdRaX2bR7D",
        "colab": {
          "base_uri": "https://localhost:8080/"
        },
        "outputId": "ee9774c6-def8-4139-c84e-31ee3be6c274"
      },
      "execution_count": 8,
      "outputs": [
        {
          "output_type": "stream",
          "name": "stdout",
          "text": [
            "Cloning into 'CapstoneProject'...\n",
            "remote: Enumerating objects: 195, done.\u001b[K\n",
            "remote: Counting objects: 100% (195/195), done.\u001b[K\n",
            "remote: Compressing objects: 100% (154/154), done.\u001b[K\n",
            "remote: Total 195 (delta 48), reused 156 (delta 17), pack-reused 0\u001b[K\n",
            "Receiving objects: 100% (195/195), 20.42 MiB | 29.61 MiB/s, done.\n",
            "Resolving deltas: 100% (48/48), done.\n"
          ]
        }
      ]
    },
    {
      "cell_type": "code",
      "source": [
        "!rm /content/CapstoneProject/toxicity_classifier/model/model_20220526-181030/keras_metadata.pb"
      ],
      "metadata": {
        "id": "4XUB9OiTjTU9"
      },
      "execution_count": 10,
      "outputs": []
    },
    {
      "cell_type": "code",
      "source": [
        "!gsutil cp -r /content/CapstoneProject/toxicity_classifier/model/model_20220526-181030/ gs://nawara_content_storage"
      ],
      "metadata": {
        "colab": {
          "base_uri": "https://localhost:8080/"
        },
        "id": "_XS9ZILzbhCS",
        "outputId": "ffe4ed11-baae-4855-cde9-dd4c44ffd436"
      },
      "execution_count": 11,
      "outputs": [
        {
          "output_type": "stream",
          "name": "stdout",
          "text": [
            "Copying file:///content/CapstoneProject/toxicity_classifier/model/model_20220526-181030/saved_model.pb [Content-Type=application/octet-stream]...\n",
            "Copying file:///content/CapstoneProject/toxicity_classifier/model/model_20220526-181030/variables/variables.index [Content-Type=application/octet-stream]...\n",
            "Copying file:///content/CapstoneProject/toxicity_classifier/model/model_20220526-181030/variables/variables.data-00000-of-00001 [Content-Type=application/octet-stream]...\n",
            "|\n",
            "Operation completed over 3 objects/15.0 MiB.                                     \n"
          ]
        }
      ]
    },
    {
      "cell_type": "code",
      "source": [
        ""
      ],
      "metadata": {
        "id": "L0UH7Ay4dubX"
      },
      "execution_count": null,
      "outputs": []
    }
  ]
}