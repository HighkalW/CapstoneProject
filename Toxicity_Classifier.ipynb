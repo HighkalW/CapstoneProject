{
  "cells": [
    {
      "cell_type": "markdown",
      "metadata": {
        "id": "ezb8DY6gzYyH"
      },
      "source": [
        "# Model Creation for Toxicity Classifier"
      ]
    },
    {
      "cell_type": "code",
      "execution_count": 1,
      "metadata": {
        "colab": {
          "base_uri": "https://localhost:8080/"
        },
        "id": "XFQNVSZDoUCm",
        "outputId": "d44a68f4-5922-4649-e4d6-10bf2851251e"
      },
      "outputs": [],
      "source": [
        "import os\n",
        "import pandas as pd\n",
        "\n",
        "\n",
        "using_colab = False"
      ]
    },
    {
      "cell_type": "markdown",
      "metadata": {
        "id": "39kqH9nXymGU"
      },
      "source": [
        "## Downloading Datasets from Kaggle"
      ]
    },
    {
      "cell_type": "code",
      "execution_count": 2,
      "metadata": {
        "colab": {
          "base_uri": "https://localhost:8080/"
        },
        "id": "NexrVGv7p6Ia",
        "outputId": "a626b9b6-a579-4307-8a23-de18599beb89"
      },
      "outputs": [],
      "source": [
        "if using_colab:\n",
        "    from google.colab import drive\n",
        "    drive.mount('/gdrive')\n",
        "    # Check current location, '/content' is the Colab virtual machine\n",
        "    print(os.getcwd())\n",
        "    # Enable the Kaggle environment, use the path to the directory your Kaggle API JSON is stored in\n",
        "    os.environ['KAGGLE_CONFIG_DIR'] = '../gdrive/MyDrive/Kaggle'\n",
        "\n",
        "    !kaggle datasets download -d ilhamfp31/indonesian-abusive-and-hate-speech-twitter-text\n",
        "    !kaggle datasets download -d oswinrh/indonesian-stoplist\n",
        "\n",
        "    !unzip 'indonesian-abusive-and-hate-speech-twitter-text.zip' -d 'abusive_text_dataset'\n",
        "    !unzip 'indonesian-stoplist.zip' -d 'stoplist_dataset'"
      ]
    },
    {
      "cell_type": "markdown",
      "metadata": {
        "id": "Ik274bLbzQnN"
      },
      "source": [
        "## Importing Datasets Using Pandas\n",
        "\n",
        "note: abusive sentences is the training data"
      ]
    },
    {
      "cell_type": "code",
      "execution_count": 3,
      "metadata": {
        "id": "Py8e3iq2wA8M"
      },
      "outputs": [],
      "source": [
        "if using_colab:\n",
        "    stopwords_path = '/content/stoplist_dataset/stopwordbahasa.csv'\n",
        "    abusive_words_path = '/content/abusive_text_dataset/abusive.csv'\n",
        "    alay_words_path = '/content/abusive_text_dataset/new_kamusalay.csv'\n",
        "    abusive_sentences_path = '/content/abusive_text_dataset/data.csv'\n",
        "\n",
        "if not using_colab:\n",
        "    stopwords_path = './dataset/stopwordbahasa.csv'\n",
        "    abusive_words_path = './dataset/abusive.csv'\n",
        "    alay_words_path = './dataset/new_kamusalay.csv'\n",
        "    abusive_sentences_path = './dataset/data.csv'\n",
        "\n",
        "df_stopwords = pd.read_csv(stopwords_path, header=None)\n",
        "df_stopwords = df_stopwords.rename(columns={0: 'stopword'})\n",
        "df_abusive = pd.read_csv(abusive_words_path, encoding='latin-1')\n",
        "df_alay = pd.read_csv(alay_words_path, encoding='latin-1', header=None)\n",
        "df_alay = df_alay.rename(columns={0: 'original', \n",
        "                                  1: 'replacement'})\n",
        "df_alay_map = dict(zip(df_alay['original'], df_alay['replacement']))\n",
        "df_abusive_sentences = pd.read_csv(abusive_sentences_path, encoding='latin-1') "
      ]
    },
    {
      "cell_type": "markdown",
      "metadata": {
        "id": "lROIBP_P4yP7"
      },
      "source": [
        "### Checking the structure of each DataFrame\n",
        "\n",
        "\n"
      ]
    },
    {
      "cell_type": "code",
      "execution_count": 4,
      "metadata": {
        "colab": {
          "base_uri": "https://localhost:8080/",
          "height": 206
        },
        "id": "aupdvdwqzFuM",
        "outputId": "0780b9b6-5d16-4546-b3c0-e81050fc973b"
      },
      "outputs": [
        {
          "data": {
            "text/html": [
              "<div>\n",
              "<style scoped>\n",
              "    .dataframe tbody tr th:only-of-type {\n",
              "        vertical-align: middle;\n",
              "    }\n",
              "\n",
              "    .dataframe tbody tr th {\n",
              "        vertical-align: top;\n",
              "    }\n",
              "\n",
              "    .dataframe thead th {\n",
              "        text-align: right;\n",
              "    }\n",
              "</style>\n",
              "<table border=\"1\" class=\"dataframe\">\n",
              "  <thead>\n",
              "    <tr style=\"text-align: right;\">\n",
              "      <th></th>\n",
              "      <th>stopword</th>\n",
              "    </tr>\n",
              "  </thead>\n",
              "  <tbody>\n",
              "    <tr>\n",
              "      <th>0</th>\n",
              "      <td>ada</td>\n",
              "    </tr>\n",
              "    <tr>\n",
              "      <th>1</th>\n",
              "      <td>adalah</td>\n",
              "    </tr>\n",
              "    <tr>\n",
              "      <th>2</th>\n",
              "      <td>adanya</td>\n",
              "    </tr>\n",
              "    <tr>\n",
              "      <th>3</th>\n",
              "      <td>adapun</td>\n",
              "    </tr>\n",
              "    <tr>\n",
              "      <th>4</th>\n",
              "      <td>agak</td>\n",
              "    </tr>\n",
              "  </tbody>\n",
              "</table>\n",
              "</div>"
            ],
            "text/plain": [
              "  stopword\n",
              "0      ada\n",
              "1   adalah\n",
              "2   adanya\n",
              "3   adapun\n",
              "4     agak"
            ]
          },
          "execution_count": 4,
          "metadata": {},
          "output_type": "execute_result"
        }
      ],
      "source": [
        "df_stopwords.head()"
      ]
    },
    {
      "cell_type": "code",
      "execution_count": 5,
      "metadata": {
        "colab": {
          "base_uri": "https://localhost:8080/",
          "height": 206
        },
        "id": "VO88gqve02fI",
        "outputId": "8f509968-1e57-4238-8699-3700f8b41482"
      },
      "outputs": [
        {
          "data": {
            "text/html": [
              "<div>\n",
              "<style scoped>\n",
              "    .dataframe tbody tr th:only-of-type {\n",
              "        vertical-align: middle;\n",
              "    }\n",
              "\n",
              "    .dataframe tbody tr th {\n",
              "        vertical-align: top;\n",
              "    }\n",
              "\n",
              "    .dataframe thead th {\n",
              "        text-align: right;\n",
              "    }\n",
              "</style>\n",
              "<table border=\"1\" class=\"dataframe\">\n",
              "  <thead>\n",
              "    <tr style=\"text-align: right;\">\n",
              "      <th></th>\n",
              "      <th>ABUSIVE</th>\n",
              "    </tr>\n",
              "  </thead>\n",
              "  <tbody>\n",
              "    <tr>\n",
              "      <th>0</th>\n",
              "      <td>alay</td>\n",
              "    </tr>\n",
              "    <tr>\n",
              "      <th>1</th>\n",
              "      <td>ampas</td>\n",
              "    </tr>\n",
              "    <tr>\n",
              "      <th>2</th>\n",
              "      <td>buta</td>\n",
              "    </tr>\n",
              "    <tr>\n",
              "      <th>3</th>\n",
              "      <td>keparat</td>\n",
              "    </tr>\n",
              "    <tr>\n",
              "      <th>4</th>\n",
              "      <td>anjing</td>\n",
              "    </tr>\n",
              "  </tbody>\n",
              "</table>\n",
              "</div>"
            ],
            "text/plain": [
              "   ABUSIVE\n",
              "0     alay\n",
              "1    ampas\n",
              "2     buta\n",
              "3  keparat\n",
              "4   anjing"
            ]
          },
          "execution_count": 5,
          "metadata": {},
          "output_type": "execute_result"
        }
      ],
      "source": [
        "df_abusive.head()"
      ]
    },
    {
      "cell_type": "code",
      "execution_count": 6,
      "metadata": {
        "colab": {
          "base_uri": "https://localhost:8080/",
          "height": 206
        },
        "id": "h4XW0ql_1BSv",
        "outputId": "3cf0f412-a184-4743-99c2-6a29bc8682a7"
      },
      "outputs": [
        {
          "data": {
            "text/html": [
              "<div>\n",
              "<style scoped>\n",
              "    .dataframe tbody tr th:only-of-type {\n",
              "        vertical-align: middle;\n",
              "    }\n",
              "\n",
              "    .dataframe tbody tr th {\n",
              "        vertical-align: top;\n",
              "    }\n",
              "\n",
              "    .dataframe thead th {\n",
              "        text-align: right;\n",
              "    }\n",
              "</style>\n",
              "<table border=\"1\" class=\"dataframe\">\n",
              "  <thead>\n",
              "    <tr style=\"text-align: right;\">\n",
              "      <th></th>\n",
              "      <th>original</th>\n",
              "      <th>replacement</th>\n",
              "    </tr>\n",
              "  </thead>\n",
              "  <tbody>\n",
              "    <tr>\n",
              "      <th>0</th>\n",
              "      <td>anakjakartaasikasik</td>\n",
              "      <td>anak jakarta asyik asyik</td>\n",
              "    </tr>\n",
              "    <tr>\n",
              "      <th>1</th>\n",
              "      <td>pakcikdahtua</td>\n",
              "      <td>pak cik sudah tua</td>\n",
              "    </tr>\n",
              "    <tr>\n",
              "      <th>2</th>\n",
              "      <td>pakcikmudalagi</td>\n",
              "      <td>pak cik muda lagi</td>\n",
              "    </tr>\n",
              "    <tr>\n",
              "      <th>3</th>\n",
              "      <td>t3tapjokowi</td>\n",
              "      <td>tetap jokowi</td>\n",
              "    </tr>\n",
              "    <tr>\n",
              "      <th>4</th>\n",
              "      <td>3x</td>\n",
              "      <td>tiga kali</td>\n",
              "    </tr>\n",
              "  </tbody>\n",
              "</table>\n",
              "</div>"
            ],
            "text/plain": [
              "              original               replacement\n",
              "0  anakjakartaasikasik  anak jakarta asyik asyik\n",
              "1         pakcikdahtua         pak cik sudah tua\n",
              "2       pakcikmudalagi         pak cik muda lagi\n",
              "3          t3tapjokowi              tetap jokowi\n",
              "4                   3x                 tiga kali"
            ]
          },
          "execution_count": 6,
          "metadata": {},
          "output_type": "execute_result"
        }
      ],
      "source": [
        "df_alay.head()"
      ]
    },
    {
      "cell_type": "code",
      "execution_count": 7,
      "metadata": {
        "colab": {
          "base_uri": "https://localhost:8080/",
          "height": 424
        },
        "id": "mPhFT2AW1ERb",
        "outputId": "a4006c0f-c129-4476-cfc6-f475001728c0"
      },
      "outputs": [
        {
          "data": {
            "text/html": [
              "<div>\n",
              "<style scoped>\n",
              "    .dataframe tbody tr th:only-of-type {\n",
              "        vertical-align: middle;\n",
              "    }\n",
              "\n",
              "    .dataframe tbody tr th {\n",
              "        vertical-align: top;\n",
              "    }\n",
              "\n",
              "    .dataframe thead th {\n",
              "        text-align: right;\n",
              "    }\n",
              "</style>\n",
              "<table border=\"1\" class=\"dataframe\">\n",
              "  <thead>\n",
              "    <tr style=\"text-align: right;\">\n",
              "      <th></th>\n",
              "      <th>Tweet</th>\n",
              "      <th>HS</th>\n",
              "      <th>Abusive</th>\n",
              "      <th>HS_Individual</th>\n",
              "      <th>HS_Group</th>\n",
              "      <th>HS_Religion</th>\n",
              "      <th>HS_Race</th>\n",
              "      <th>HS_Physical</th>\n",
              "      <th>HS_Gender</th>\n",
              "      <th>HS_Other</th>\n",
              "      <th>HS_Weak</th>\n",
              "      <th>HS_Moderate</th>\n",
              "      <th>HS_Strong</th>\n",
              "    </tr>\n",
              "  </thead>\n",
              "  <tbody>\n",
              "    <tr>\n",
              "      <th>0</th>\n",
              "      <td>- disaat semua cowok berusaha melacak perhatia...</td>\n",
              "      <td>1</td>\n",
              "      <td>1</td>\n",
              "      <td>1</td>\n",
              "      <td>0</td>\n",
              "      <td>0</td>\n",
              "      <td>0</td>\n",
              "      <td>0</td>\n",
              "      <td>0</td>\n",
              "      <td>1</td>\n",
              "      <td>1</td>\n",
              "      <td>0</td>\n",
              "      <td>0</td>\n",
              "    </tr>\n",
              "    <tr>\n",
              "      <th>1</th>\n",
              "      <td>RT USER: USER siapa yang telat ngasih tau elu?...</td>\n",
              "      <td>0</td>\n",
              "      <td>1</td>\n",
              "      <td>0</td>\n",
              "      <td>0</td>\n",
              "      <td>0</td>\n",
              "      <td>0</td>\n",
              "      <td>0</td>\n",
              "      <td>0</td>\n",
              "      <td>0</td>\n",
              "      <td>0</td>\n",
              "      <td>0</td>\n",
              "      <td>0</td>\n",
              "    </tr>\n",
              "    <tr>\n",
              "      <th>2</th>\n",
              "      <td>41. Kadang aku berfikir, kenapa aku tetap perc...</td>\n",
              "      <td>0</td>\n",
              "      <td>0</td>\n",
              "      <td>0</td>\n",
              "      <td>0</td>\n",
              "      <td>0</td>\n",
              "      <td>0</td>\n",
              "      <td>0</td>\n",
              "      <td>0</td>\n",
              "      <td>0</td>\n",
              "      <td>0</td>\n",
              "      <td>0</td>\n",
              "      <td>0</td>\n",
              "    </tr>\n",
              "    <tr>\n",
              "      <th>3</th>\n",
              "      <td>USER USER AKU ITU AKU\\n\\nKU TAU MATAMU SIPIT T...</td>\n",
              "      <td>0</td>\n",
              "      <td>0</td>\n",
              "      <td>0</td>\n",
              "      <td>0</td>\n",
              "      <td>0</td>\n",
              "      <td>0</td>\n",
              "      <td>0</td>\n",
              "      <td>0</td>\n",
              "      <td>0</td>\n",
              "      <td>0</td>\n",
              "      <td>0</td>\n",
              "      <td>0</td>\n",
              "    </tr>\n",
              "    <tr>\n",
              "      <th>4</th>\n",
              "      <td>USER USER Kaum cebong kapir udah keliatan dong...</td>\n",
              "      <td>1</td>\n",
              "      <td>1</td>\n",
              "      <td>0</td>\n",
              "      <td>1</td>\n",
              "      <td>1</td>\n",
              "      <td>0</td>\n",
              "      <td>0</td>\n",
              "      <td>0</td>\n",
              "      <td>0</td>\n",
              "      <td>0</td>\n",
              "      <td>1</td>\n",
              "      <td>0</td>\n",
              "    </tr>\n",
              "  </tbody>\n",
              "</table>\n",
              "</div>"
            ],
            "text/plain": [
              "                                               Tweet  HS  Abusive  \\\n",
              "0  - disaat semua cowok berusaha melacak perhatia...   1        1   \n",
              "1  RT USER: USER siapa yang telat ngasih tau elu?...   0        1   \n",
              "2  41. Kadang aku berfikir, kenapa aku tetap perc...   0        0   \n",
              "3  USER USER AKU ITU AKU\\n\\nKU TAU MATAMU SIPIT T...   0        0   \n",
              "4  USER USER Kaum cebong kapir udah keliatan dong...   1        1   \n",
              "\n",
              "   HS_Individual  HS_Group  HS_Religion  HS_Race  HS_Physical  HS_Gender  \\\n",
              "0              1         0            0        0            0          0   \n",
              "1              0         0            0        0            0          0   \n",
              "2              0         0            0        0            0          0   \n",
              "3              0         0            0        0            0          0   \n",
              "4              0         1            1        0            0          0   \n",
              "\n",
              "   HS_Other  HS_Weak  HS_Moderate  HS_Strong  \n",
              "0         1        1            0          0  \n",
              "1         0        0            0          0  \n",
              "2         0        0            0          0  \n",
              "3         0        0            0          0  \n",
              "4         0        0            1          0  "
            ]
          },
          "execution_count": 7,
          "metadata": {},
          "output_type": "execute_result"
        }
      ],
      "source": [
        "df_abusive_sentences.head()"
      ]
    },
    {
      "cell_type": "markdown",
      "metadata": {
        "id": "yhN1f-KjMXW0"
      },
      "source": [
        "### Checking if HS column corresponds with the HS_X columns"
      ]
    },
    {
      "cell_type": "code",
      "execution_count": 8,
      "metadata": {
        "colab": {
          "base_uri": "https://localhost:8080/",
          "height": 49
        },
        "id": "vVUv06iuMugF",
        "outputId": "58d39a87-fdf0-4649-9e5f-3de33687b6b6"
      },
      "outputs": [
        {
          "data": {
            "text/html": [
              "<div>\n",
              "<style scoped>\n",
              "    .dataframe tbody tr th:only-of-type {\n",
              "        vertical-align: middle;\n",
              "    }\n",
              "\n",
              "    .dataframe tbody tr th {\n",
              "        vertical-align: top;\n",
              "    }\n",
              "\n",
              "    .dataframe thead th {\n",
              "        text-align: right;\n",
              "    }\n",
              "</style>\n",
              "<table border=\"1\" class=\"dataframe\">\n",
              "  <thead>\n",
              "    <tr style=\"text-align: right;\">\n",
              "      <th></th>\n",
              "      <th>Tweet</th>\n",
              "      <th>HS</th>\n",
              "      <th>Abusive</th>\n",
              "      <th>HS_Individual</th>\n",
              "      <th>HS_Group</th>\n",
              "      <th>HS_Religion</th>\n",
              "      <th>HS_Race</th>\n",
              "      <th>HS_Physical</th>\n",
              "      <th>HS_Gender</th>\n",
              "      <th>HS_Other</th>\n",
              "      <th>HS_Weak</th>\n",
              "      <th>HS_Moderate</th>\n",
              "      <th>HS_Strong</th>\n",
              "    </tr>\n",
              "  </thead>\n",
              "  <tbody>\n",
              "  </tbody>\n",
              "</table>\n",
              "</div>"
            ],
            "text/plain": [
              "Empty DataFrame\n",
              "Columns: [Tweet, HS, Abusive, HS_Individual, HS_Group, HS_Religion, HS_Race, HS_Physical, HS_Gender, HS_Other, HS_Weak, HS_Moderate, HS_Strong]\n",
              "Index: []"
            ]
          },
          "execution_count": 8,
          "metadata": {},
          "output_type": "execute_result"
        }
      ],
      "source": [
        "condition = df_abusive_sentences['HS'] != (df_abusive_sentences[df_abusive_sentences.columns[3:]].any(axis=1))\n",
        "df_abusive_sentences[condition]"
      ]
    },
    {
      "cell_type": "markdown",
      "metadata": {
        "id": "Ok_rP3WENJYx"
      },
      "source": [
        "Therefore HS column is correct, HS will be 1 if any of HS_X columns contains 1"
      ]
    },
    {
      "cell_type": "markdown",
      "metadata": {
        "id": "qi_hblNm3L2H"
      },
      "source": [
        "## Data Preprocessing"
      ]
    },
    {
      "cell_type": "code",
      "execution_count": 9,
      "metadata": {
        "colab": {
          "base_uri": "https://localhost:8080/"
        },
        "id": "CSgoCUmpJYWa",
        "outputId": "ea4b5074-1165-45b8-94da-c62e44545c61"
      },
      "outputs": [
        {
          "name": "stdout",
          "output_type": "stream",
          "text": [
            "Collecting PySastrawi\n",
            "  Downloading PySastrawi-1.2.0-py2.py3-none-any.whl (210 kB)\n",
            "Installing collected packages: PySastrawi\n",
            "Successfully installed PySastrawi-1.2.0\n"
          ]
        }
      ],
      "source": [
        "!pip install PySastrawi"
      ]
    },
    {
      "cell_type": "code",
      "execution_count": 10,
      "metadata": {
        "id": "oyeoXYDB3XeD"
      },
      "outputs": [],
      "source": [
        "import re\n",
        "from Sastrawi.Stemmer.StemmerFactory import StemmerFactory\n",
        "factory = StemmerFactory()\n",
        "stemmer = factory.create_stemmer()\n",
        "\n",
        "def lowercase(text):\n",
        "    return text.lower()\n",
        "\n",
        "def remove_unnecessary_char(text):\n",
        "    text = re.sub('((www\\.[^\\s]+)|(https?://[^\\s]+)|(http?://[^\\s]+))',' ',text) # Remove every URL\n",
        "    text = re.sub('\\n',' ',text) # Remove every '\\n'\n",
        "    text = re.sub('\\r',' ',text) # Remove every '\\r'\n",
        "    text = re.sub('(?i)rt',' ',text) # Remove every retweet symbol\n",
        "    text = re.sub('@[^\\s]+[ \\t]','',text) # Remove every username\n",
        "    text = re.sub('(?i)user','',text) # Remove every username\n",
        "    text = re.sub('(?i)url',' ',text) # Remove every url\n",
        "    text = re.sub(r'\\\\x..',' ',text) # Remove every emoji\n",
        "    text = re.sub('  +', ' ', text) # Remove extra spaces\n",
        "    text = re.sub(r'(\\w)\\1{2,}', r'\\1\\1', text) #Remove characters repeating more than twice\n",
        "\n",
        "    return text\n",
        "    \n",
        "def remove_nonaplhanumeric(text):\n",
        "    text = re.sub('[^0-9a-zA-Z]+', ' ', text) \n",
        "\n",
        "    return text\n",
        "\n",
        "def normalize_alay(text):\n",
        "    words = text.split(' ')\n",
        "    normalized_words= []\n",
        "    for word in words:\n",
        "      if word in df_alay_map:\n",
        "        normalized_words.append(df_alay_map[word])\n",
        "      else:\n",
        "        normalized_words.append(word)\n",
        "      normalized_sentences = \" \".join(normalized_words)\n",
        "    return normalized_sentences\n",
        "\n",
        "def remove_stopword(text):\n",
        "    cleaned_words= []\n",
        "    for word in text.split(' '):\n",
        "      if word in df_stopwords['stopword'].values:\n",
        "        cleaned_words.append('')\n",
        "      else:\n",
        "        cleaned_words.append(word)\n",
        "      cleaned_sentences = ' '.join(cleaned_words)\n",
        "    cleaned_sentences = re.sub('  +', ' ', cleaned_sentences) # Remove extra spaces\n",
        "    cleaned_sentences = cleaned_sentences.strip()\n",
        "    return cleaned_sentences\n",
        "\n",
        "def stemming(text):\n",
        "    return stemmer.stem(text)\n",
        "\n",
        "def preprocess(text):\n",
        "    text = remove_unnecessary_char(text)\n",
        "    text = lowercase(text)\n",
        "    text = remove_nonaplhanumeric(text)\n",
        "    text = normalize_alay(text)\n",
        "    text = remove_stopword(text)\n",
        "    text = stemming(text)\n",
        "\n",
        "    return text\n"
      ]
    },
    {
      "cell_type": "code",
      "execution_count": 11,
      "metadata": {
        "id": "dApM37To3URv"
      },
      "outputs": [],
      "source": [
        "df_abusive_sentences['Tweet'] = df_abusive_sentences['Tweet'].apply(preprocess)"
      ]
    },
    {
      "cell_type": "markdown",
      "metadata": {
        "id": "vgRbEHfaMY10"
      },
      "source": [
        "## Text Vectorization"
      ]
    },
    {
      "cell_type": "code",
      "execution_count": 32,
      "metadata": {
        "colab": {
          "base_uri": "https://localhost:8080/"
        },
        "id": "RlxmmUSxfht_",
        "outputId": "b95dc68e-cf6f-41e3-98b7-1d6a8065dca4"
      },
      "outputs": [
        {
          "name": "stdout",
          "output_type": "stream",
          "text": [
            "2.8.0\n",
            "[name: \"/device:CPU:0\"\n",
            "device_type: \"CPU\"\n",
            "memory_limit: 268435456\n",
            "locality {\n",
            "}\n",
            "incarnation: 8331148007688019465\n",
            "xla_global_id: -1\n",
            ", name: \"/device:GPU:0\"\n",
            "device_type: \"GPU\"\n",
            "memory_limit: 3667263488\n",
            "locality {\n",
            "  bus_id: 1\n",
            "  links {\n",
            "  }\n",
            "}\n",
            "incarnation: 1833519662532580048\n",
            "physical_device_desc: \"device: 0, name: NVIDIA GeForce RTX 3060 Laptop GPU, pci bus id: 0000:01:00.0, compute capability: 8.6\"\n",
            "xla_global_id: 416903419\n",
            "]\n",
            "Default GPU Device: /device:GPU:0\n"
          ]
        }
      ],
      "source": [
        "import tensorflow as tf\n",
        "print(tf.__version__)\n",
        "\n",
        "from tensorflow.python.client import device_lib\n",
        "print(device_lib.list_local_devices());\n",
        "print('Default GPU Device: {}'.format(tf.test.gpu_device_name()));"
      ]
    },
    {
      "cell_type": "code",
      "execution_count": 33,
      "metadata": {
        "id": "Pc9503bJ5Iot"
      },
      "outputs": [],
      "source": [
        "# Run if Tensorflow version < 2.0\n",
        "# !pip install --upgrade tensorflow"
      ]
    },
    {
      "cell_type": "code",
      "execution_count": 34,
      "metadata": {
        "id": "L82mESe7f4DK"
      },
      "outputs": [],
      "source": [
        "from tensorflow.keras.layers import TextVectorization"
      ]
    },
    {
      "cell_type": "code",
      "execution_count": 35,
      "metadata": {
        "id": "blmiGlnJkYYj"
      },
      "outputs": [],
      "source": [
        "x = df_abusive_sentences['Tweet']\n",
        "y = df_abusive_sentences[['HS','Abusive']].values"
      ]
    },
    {
      "cell_type": "code",
      "execution_count": 36,
      "metadata": {
        "id": "HG3Vos7OEaRD"
      },
      "outputs": [],
      "source": [
        "max_features = 200000"
      ]
    },
    {
      "cell_type": "code",
      "execution_count": 37,
      "metadata": {
        "id": "MBqd261GEcFh"
      },
      "outputs": [],
      "source": [
        "vectorizer = TextVectorization(max_tokens=max_features,\n",
        "                               output_sequence_length=1800,\n",
        "                               output_mode='int')\n",
        "vectorizer.adapt(x.values)\n",
        "vectorized_text = vectorizer(x.values)\n"
      ]
    },
    {
      "cell_type": "code",
      "execution_count": 38,
      "metadata": {
        "id": "_TAv77MdEj4P"
      },
      "outputs": [],
      "source": [
        "dataset = tf.data.Dataset.from_tensor_slices((vectorized_text, y))\n",
        "dataset = dataset.cache().shuffle(160000).batch(16).prefetch(8) #adjust constants based on dataset"
      ]
    },
    {
      "cell_type": "code",
      "execution_count": 39,
      "metadata": {
        "id": "CiTDafMcErSi"
      },
      "outputs": [],
      "source": [
        "train = dataset.take(int(len(dataset)*.7))\n",
        "val = dataset.skip(int(len(dataset)*.7)).take(int(len(dataset)*.2))\n",
        "test = dataset.skip(int(len(dataset)*.9)).take(int(len(dataset)*.1))"
      ]
    },
    {
      "cell_type": "markdown",
      "metadata": {
        "id": "vOh_aeQwndi9"
      },
      "source": [
        "## Building the Model"
      ]
    },
    {
      "cell_type": "code",
      "execution_count": 40,
      "metadata": {
        "id": "-QzSzOrBUhKc"
      },
      "outputs": [],
      "source": [
        "from tensorflow.keras.layers import Embedding, Bidirectional, LSTM, Dense"
      ]
    },
    {
      "cell_type": "code",
      "execution_count": 41,
      "metadata": {
        "id": "JN1V4bOmFl0a"
      },
      "outputs": [],
      "source": [
        "model = tf.keras.models.Sequential()\n",
        "\n",
        "model.add(Embedding(max_features+1, 32))\n",
        "model.add(Bidirectional(LSTM(32, activation='tanh', )))\n",
        "model.add(Dense(128, activation='relu'))\n",
        "model.add(Dense(256, activation='relu'))\n",
        "model.add(Dense(256, activation='relu'))\n",
        "model.add(Dense(2, activation='sigmoid'))"
      ]
    },
    {
      "cell_type": "code",
      "execution_count": 47,
      "metadata": {
        "colab": {
          "base_uri": "https://localhost:8080/"
        },
        "id": "_jLPamwMGL-l",
        "outputId": "a6043a26-be21-476d-ab8e-f355d1450c84"
      },
      "outputs": [
        {
          "name": "stdout",
          "output_type": "stream",
          "text": [
            "Model: \"sequential_1\"\n",
            "_________________________________________________________________\n",
            " Layer (type)                Output Shape              Param #   \n",
            "=================================================================\n",
            " embedding_1 (Embedding)     (None, None, 32)          6400032   \n",
            "                                                                 \n",
            " bidirectional_1 (Bidirectio  (None, 64)               16640     \n",
            " nal)                                                            \n",
            "                                                                 \n",
            " dense_4 (Dense)             (None, 128)               8320      \n",
            "                                                                 \n",
            " dense_5 (Dense)             (None, 256)               33024     \n",
            "                                                                 \n",
            " dense_6 (Dense)             (None, 256)               65792     \n",
            "                                                                 \n",
            " dense_7 (Dense)             (None, 2)                 514       \n",
            "                                                                 \n",
            "=================================================================\n",
            "Total params: 6,524,322\n",
            "Trainable params: 6,524,322\n",
            "Non-trainable params: 0\n",
            "_________________________________________________________________\n"
          ]
        }
      ],
      "source": [
        "model.compile(loss='BinaryCrossentropy', optimizer='Adam', metrics=['accuracy', 'categorical_accuracy'])\n",
        "model.summary()"
      ]
    },
    {
      "cell_type": "markdown",
      "metadata": {
        "id": "ehWd8FauHgYC"
      },
      "source": [
        "### Training the Model"
      ]
    },
    {
      "cell_type": "code",
      "execution_count": 48,
      "metadata": {
        "colab": {
          "base_uri": "https://localhost:8080/"
        },
        "id": "Xl46pBC3GOCp",
        "outputId": "8e43978c-7eb1-4d38-f555-861a66d31c70"
      },
      "outputs": [
        {
          "name": "stdout",
          "output_type": "stream",
          "text": [
            "Epoch 1/30\n",
            "576/576 [==============================] - 84s 143ms/step - loss: 0.0680 - accuracy: 0.7657 - categorical_accuracy: 0.7657 - val_loss: 0.0541 - val_accuracy: 0.7854 - val_categorical_accuracy: 0.7854\n",
            "Epoch 2/30\n",
            "576/576 [==============================] - 81s 140ms/step - loss: 0.0616 - accuracy: 0.7826 - categorical_accuracy: 0.7826 - val_loss: 0.0466 - val_accuracy: 0.7687 - val_categorical_accuracy: 0.7687\n",
            "Epoch 3/30\n",
            "576/576 [==============================] - 81s 140ms/step - loss: 0.0567 - accuracy: 0.8151 - categorical_accuracy: 0.8151 - val_loss: 0.0446 - val_accuracy: 0.7797 - val_categorical_accuracy: 0.7797\n",
            "Epoch 4/30\n",
            "576/576 [==============================] - 81s 141ms/step - loss: 0.0531 - accuracy: 0.7788 - categorical_accuracy: 0.7788 - val_loss: 0.0481 - val_accuracy: 0.7649 - val_categorical_accuracy: 0.7649\n",
            "Epoch 5/30\n",
            "576/576 [==============================] - 83s 143ms/step - loss: 0.0462 - accuracy: 0.8054 - categorical_accuracy: 0.8054 - val_loss: 0.0387 - val_accuracy: 0.7534 - val_categorical_accuracy: 0.7534\n",
            "Epoch 6/30\n",
            "576/576 [==============================] - 81s 141ms/step - loss: 0.0419 - accuracy: 0.8436 - categorical_accuracy: 0.8436 - val_loss: 0.0384 - val_accuracy: 0.8262 - val_categorical_accuracy: 0.8262\n",
            "Epoch 7/30\n",
            "576/576 [==============================] - 82s 143ms/step - loss: 0.0394 - accuracy: 0.8294 - categorical_accuracy: 0.8294 - val_loss: 0.0285 - val_accuracy: 0.9390 - val_categorical_accuracy: 0.9390\n",
            "Epoch 8/30\n",
            "576/576 [==============================] - 82s 143ms/step - loss: 0.0345 - accuracy: 0.8318 - categorical_accuracy: 0.8318 - val_loss: 0.0350 - val_accuracy: 0.7336 - val_categorical_accuracy: 0.7336\n",
            "Epoch 9/30\n",
            "576/576 [==============================] - 81s 140ms/step - loss: 0.0335 - accuracy: 0.8553 - categorical_accuracy: 0.8553 - val_loss: 0.0229 - val_accuracy: 0.9158 - val_categorical_accuracy: 0.9158\n",
            "Epoch 10/30\n",
            "576/576 [==============================] - 82s 142ms/step - loss: 0.0332 - accuracy: 0.8724 - categorical_accuracy: 0.8724 - val_loss: 0.0248 - val_accuracy: 0.7530 - val_categorical_accuracy: 0.7530\n",
            "Epoch 11/30\n",
            "576/576 [==============================] - 83s 144ms/step - loss: 0.0274 - accuracy: 0.8317 - categorical_accuracy: 0.8317 - val_loss: 0.0265 - val_accuracy: 0.7572 - val_categorical_accuracy: 0.7572\n",
            "Epoch 12/30\n",
            "576/576 [==============================] - 82s 143ms/step - loss: 0.0276 - accuracy: 0.8698 - categorical_accuracy: 0.8698 - val_loss: 0.0208 - val_accuracy: 0.7245 - val_categorical_accuracy: 0.7245\n",
            "Epoch 13/30\n",
            "576/576 [==============================] - 84s 146ms/step - loss: 0.0279 - accuracy: 0.9074 - categorical_accuracy: 0.9074 - val_loss: 0.0290 - val_accuracy: 0.9291 - val_categorical_accuracy: 0.9291\n",
            "Epoch 14/30\n",
            "576/576 [==============================] - 83s 144ms/step - loss: 0.0234 - accuracy: 0.9048 - categorical_accuracy: 0.9048 - val_loss: 0.0212 - val_accuracy: 0.7870 - val_categorical_accuracy: 0.7870\n",
            "Epoch 15/30\n",
            "576/576 [==============================] - 79s 137ms/step - loss: 0.0269 - accuracy: 0.8364 - categorical_accuracy: 0.8364 - val_loss: 0.0246 - val_accuracy: 0.5339 - val_categorical_accuracy: 0.5339\n",
            "Epoch 16/30\n",
            "576/576 [==============================] - 82s 142ms/step - loss: 0.0222 - accuracy: 0.7844 - categorical_accuracy: 0.7844 - val_loss: 0.0194 - val_accuracy: 0.9043 - val_categorical_accuracy: 0.9043\n",
            "Epoch 17/30\n",
            "576/576 [==============================] - 81s 141ms/step - loss: 0.0207 - accuracy: 0.8893 - categorical_accuracy: 0.8893 - val_loss: 0.0174 - val_accuracy: 0.6799 - val_categorical_accuracy: 0.6799\n",
            "Epoch 18/30\n",
            "576/576 [==============================] - 85s 147ms/step - loss: 0.0210 - accuracy: 0.8707 - categorical_accuracy: 0.8707 - val_loss: 0.0160 - val_accuracy: 0.9493 - val_categorical_accuracy: 0.9493\n",
            "Epoch 19/30\n",
            "576/576 [==============================] - 83s 144ms/step - loss: 0.0186 - accuracy: 0.8415 - categorical_accuracy: 0.8415 - val_loss: 0.0157 - val_accuracy: 0.7900 - val_categorical_accuracy: 0.7900\n",
            "Epoch 20/30\n",
            "576/576 [==============================] - 82s 143ms/step - loss: 0.0224 - accuracy: 0.8689 - categorical_accuracy: 0.8689 - val_loss: 0.0184 - val_accuracy: 0.9123 - val_categorical_accuracy: 0.9123\n",
            "Epoch 21/30\n",
            "576/576 [==============================] - 82s 142ms/step - loss: 0.0178 - accuracy: 0.8593 - categorical_accuracy: 0.8593 - val_loss: 0.0157 - val_accuracy: 0.8941 - val_categorical_accuracy: 0.8941\n",
            "Epoch 22/30\n",
            "576/576 [==============================] - 82s 142ms/step - loss: 0.0153 - accuracy: 0.9206 - categorical_accuracy: 0.9206 - val_loss: 0.0096 - val_accuracy: 0.9371 - val_categorical_accuracy: 0.9371\n",
            "Epoch 23/30\n",
            "576/576 [==============================] - 81s 141ms/step - loss: 0.0169 - accuracy: 0.9273 - categorical_accuracy: 0.9273 - val_loss: 0.0237 - val_accuracy: 0.9131 - val_categorical_accuracy: 0.9131\n",
            "Epoch 24/30\n",
            "576/576 [==============================] - 81s 140ms/step - loss: 0.0174 - accuracy: 0.8970 - categorical_accuracy: 0.8970 - val_loss: 0.0144 - val_accuracy: 0.5598 - val_categorical_accuracy: 0.5598\n",
            "Epoch 25/30\n",
            "576/576 [==============================] - 81s 140ms/step - loss: 0.0151 - accuracy: 0.5916 - categorical_accuracy: 0.5916 - val_loss: 0.0152 - val_accuracy: 0.7675 - val_categorical_accuracy: 0.7675\n",
            "Epoch 26/30\n",
            "576/576 [==============================] - 80s 140ms/step - loss: 0.0144 - accuracy: 0.6671 - categorical_accuracy: 0.6671 - val_loss: 0.0103 - val_accuracy: 0.7241 - val_categorical_accuracy: 0.7241\n",
            "Epoch 27/30\n",
            "576/576 [==============================] - 81s 140ms/step - loss: 0.0157 - accuracy: 0.9022 - categorical_accuracy: 0.9022 - val_loss: 0.0134 - val_accuracy: 0.8605 - val_categorical_accuracy: 0.8605\n",
            "Epoch 28/30\n",
            "576/576 [==============================] - 81s 140ms/step - loss: 0.0149 - accuracy: 0.9124 - categorical_accuracy: 0.9124 - val_loss: 0.0141 - val_accuracy: 0.9299 - val_categorical_accuracy: 0.9299\n",
            "Epoch 29/30\n",
            "576/576 [==============================] - 82s 142ms/step - loss: 0.0160 - accuracy: 0.9181 - categorical_accuracy: 0.9181 - val_loss: 0.0077 - val_accuracy: 0.9333 - val_categorical_accuracy: 0.9333\n",
            "Epoch 30/30\n",
            "576/576 [==============================] - 82s 142ms/step - loss: 0.0131 - accuracy: 0.9348 - categorical_accuracy: 0.9348 - val_loss: 0.0096 - val_accuracy: 0.9352 - val_categorical_accuracy: 0.9352\n"
          ]
        }
      ],
      "source": [
        "history = model.fit(train, epochs=30, validation_data=val)"
      ]
    },
    {
      "cell_type": "code",
      "execution_count": 49,
      "metadata": {
        "id": "d4uRfA7vGONL"
      },
      "outputs": [],
      "source": [
        "from matplotlib import pyplot as plt"
      ]
    },
    {
      "cell_type": "code",
      "execution_count": 51,
      "metadata": {
        "colab": {
          "base_uri": "https://localhost:8080/",
          "height": 286
        },
        "id": "z2GtAOyVGRQ1",
        "outputId": "991c31ee-798f-40c2-ba2f-30ae14499d8b"
      },
      "outputs": [
        {
          "data": {
            "text/plain": [
              "<Figure size 1152x648 with 0 Axes>"
            ]
          },
          "metadata": {},
          "output_type": "display_data"
        },
        {
          "data": {
            "image/png": "[encoded data removed]",
            "text/plain": [
              "<Figure size 432x288 with 1 Axes>"
            ]
          },
          "metadata": {
            "needs_background": "light"
          },
          "output_type": "display_data"
        }
      ],
      "source": [
        "plt.figure(figsize=(16,9))\n",
        "pd.DataFrame(history.history).plot()\n",
        "plt.show()"
      ]
    },
    {
      "cell_type": "markdown",
      "metadata": {
        "id": "MK-gdVd8GW_3"
      },
      "source": [
        "# Testing the Model with User Inputs"
      ]
    },
    {
      "cell_type": "code",
      "execution_count": 52,
      "metadata": {
        "id": "h89wblpcGa5A"
      },
      "outputs": [
        {
          "name": "stdout",
          "output_type": "stream",
          "text": [
            "WARNING:tensorflow:Model was constructed with shape (None, None) for input KerasTensor(type_spec=TensorSpec(shape=(None, None), dtype=tf.float32, name='embedding_1_input'), name='embedding_1_input', description=\"created by layer 'embedding_1_input'\"), but it was called on an input with incompatible shape (None,).\n"
          ]
        },
        {
          "ename": "ValueError",
          "evalue": "in user code:\n\n    File \"d:\\Anaconda3\\envs\\Deep_Learning\\lib\\site-packages\\keras\\engine\\training.py\", line 1801, in predict_function  *\n        return step_function(self, iterator)\n    File \"d:\\Anaconda3\\envs\\Deep_Learning\\lib\\site-packages\\keras\\engine\\training.py\", line 1790, in step_function  **\n        outputs = model.distribute_strategy.run(run_step, args=(data,))\n    File \"d:\\Anaconda3\\envs\\Deep_Learning\\lib\\site-packages\\keras\\engine\\training.py\", line 1783, in run_step  **\n        outputs = model.predict_step(data)\n    File \"d:\\Anaconda3\\envs\\Deep_Learning\\lib\\site-packages\\keras\\engine\\training.py\", line 1751, in predict_step\n        return self(x, training=False)\n    File \"d:\\Anaconda3\\envs\\Deep_Learning\\lib\\site-packages\\keras\\utils\\traceback_utils.py\", line 67, in error_handler\n        raise e.with_traceback(filtered_tb) from None\n    File \"d:\\Anaconda3\\envs\\Deep_Learning\\lib\\site-packages\\keras\\engine\\input_spec.py\", line 214, in assert_input_compatibility\n        raise ValueError(f'Input {input_index} of layer \"{layer_name}\" '\n\n    ValueError: Exception encountered when calling layer \"sequential_1\" (type Sequential).\n    \n    Input 0 of layer \"bidirectional_1\" is incompatible with the layer: expected ndim=3, found ndim=2. Full shape received: (None, 32)\n    \n    Call arguments received:\n      • inputs=tf.Tensor(shape=(None,), dtype=int64)\n      • training=False\n      • mask=None\n",
          "output_type": "error",
          "traceback": [
            "\u001b[1;31m---------------------------------------------------------------------------\u001b[0m",
            "\u001b[1;31mValueError\u001b[0m                                Traceback (most recent call last)",
            "\u001b[1;32me:\\USU\\Semester 1-8\\Semester VIII\\Kampus Merdeka\\Bangkit 2022\\Capstone Project\\Repository\\Toxicity_Classifier.ipynb Cell 37'\u001b[0m in \u001b[0;36m<cell line: 2>\u001b[1;34m()\u001b[0m\n\u001b[0;32m      <a href='vscode-notebook-cell:/e%3A/USU/Semester%201-8/Semester%20VIII/Kampus%20Merdeka/Bangkit%202022/Capstone%20Project/Repository/Toxicity_Classifier.ipynb#ch0000038?line=0'>1</a>\u001b[0m input_text \u001b[39m=\u001b[39m vectorizer(\u001b[39m'\u001b[39m\u001b[39mbego lu\u001b[39m\u001b[39m'\u001b[39m)\n\u001b[1;32m----> <a href='vscode-notebook-cell:/e%3A/USU/Semester%201-8/Semester%20VIII/Kampus%20Merdeka/Bangkit%202022/Capstone%20Project/Repository/Toxicity_Classifier.ipynb#ch0000038?line=1'>2</a>\u001b[0m res \u001b[39m=\u001b[39m model\u001b[39m.\u001b[39;49mpredict(input_text)\n\u001b[0;32m      <a href='vscode-notebook-cell:/e%3A/USU/Semester%201-8/Semester%20VIII/Kampus%20Merdeka/Bangkit%202022/Capstone%20Project/Repository/Toxicity_Classifier.ipynb#ch0000038?line=2'>3</a>\u001b[0m (res \u001b[39m>\u001b[39m \u001b[39m0.5\u001b[39m)\u001b[39m.\u001b[39mastype(\u001b[39mint\u001b[39m)\n\u001b[0;32m      <a href='vscode-notebook-cell:/e%3A/USU/Semester%201-8/Semester%20VIII/Kampus%20Merdeka/Bangkit%202022/Capstone%20Project/Repository/Toxicity_Classifier.ipynb#ch0000038?line=3'>4</a>\u001b[0m batch_X, batch_y \u001b[39m=\u001b[39m test\u001b[39m.\u001b[39mas_numpy_iterator()\u001b[39m.\u001b[39mnext()\n",
            "File \u001b[1;32md:\\Anaconda3\\envs\\Deep_Learning\\lib\\site-packages\\keras\\utils\\traceback_utils.py:67\u001b[0m, in \u001b[0;36mfilter_traceback.<locals>.error_handler\u001b[1;34m(*args, **kwargs)\u001b[0m\n\u001b[0;32m     <a href='file:///d%3A/Anaconda3/envs/Deep_Learning/lib/site-packages/keras/utils/traceback_utils.py?line=64'>65</a>\u001b[0m \u001b[39mexcept\u001b[39;00m \u001b[39mException\u001b[39;00m \u001b[39mas\u001b[39;00m e:  \u001b[39m# pylint: disable=broad-except\u001b[39;00m\n\u001b[0;32m     <a href='file:///d%3A/Anaconda3/envs/Deep_Learning/lib/site-packages/keras/utils/traceback_utils.py?line=65'>66</a>\u001b[0m   filtered_tb \u001b[39m=\u001b[39m _process_traceback_frames(e\u001b[39m.\u001b[39m__traceback__)\n\u001b[1;32m---> <a href='file:///d%3A/Anaconda3/envs/Deep_Learning/lib/site-packages/keras/utils/traceback_utils.py?line=66'>67</a>\u001b[0m   \u001b[39mraise\u001b[39;00m e\u001b[39m.\u001b[39mwith_traceback(filtered_tb) \u001b[39mfrom\u001b[39;00m \u001b[39mNone\u001b[39m\n\u001b[0;32m     <a href='file:///d%3A/Anaconda3/envs/Deep_Learning/lib/site-packages/keras/utils/traceback_utils.py?line=67'>68</a>\u001b[0m \u001b[39mfinally\u001b[39;00m:\n\u001b[0;32m     <a href='file:///d%3A/Anaconda3/envs/Deep_Learning/lib/site-packages/keras/utils/traceback_utils.py?line=68'>69</a>\u001b[0m   \u001b[39mdel\u001b[39;00m filtered_tb\n",
            "File \u001b[1;32md:\\Anaconda3\\envs\\Deep_Learning\\lib\\site-packages\\tensorflow\\python\\framework\\func_graph.py:1147\u001b[0m, in \u001b[0;36mfunc_graph_from_py_func.<locals>.autograph_handler\u001b[1;34m(*args, **kwargs)\u001b[0m\n\u001b[0;32m   <a href='file:///d%3A/Anaconda3/envs/Deep_Learning/lib/site-packages/tensorflow/python/framework/func_graph.py?line=1144'>1145</a>\u001b[0m \u001b[39mexcept\u001b[39;00m \u001b[39mException\u001b[39;00m \u001b[39mas\u001b[39;00m e:  \u001b[39m# pylint:disable=broad-except\u001b[39;00m\n\u001b[0;32m   <a href='file:///d%3A/Anaconda3/envs/Deep_Learning/lib/site-packages/tensorflow/python/framework/func_graph.py?line=1145'>1146</a>\u001b[0m   \u001b[39mif\u001b[39;00m \u001b[39mhasattr\u001b[39m(e, \u001b[39m\"\u001b[39m\u001b[39mag_error_metadata\u001b[39m\u001b[39m\"\u001b[39m):\n\u001b[1;32m-> <a href='file:///d%3A/Anaconda3/envs/Deep_Learning/lib/site-packages/tensorflow/python/framework/func_graph.py?line=1146'>1147</a>\u001b[0m     \u001b[39mraise\u001b[39;00m e\u001b[39m.\u001b[39mag_error_metadata\u001b[39m.\u001b[39mto_exception(e)\n\u001b[0;32m   <a href='file:///d%3A/Anaconda3/envs/Deep_Learning/lib/site-packages/tensorflow/python/framework/func_graph.py?line=1147'>1148</a>\u001b[0m   \u001b[39melse\u001b[39;00m:\n\u001b[0;32m   <a href='file:///d%3A/Anaconda3/envs/Deep_Learning/lib/site-packages/tensorflow/python/framework/func_graph.py?line=1148'>1149</a>\u001b[0m     \u001b[39mraise\u001b[39;00m\n",
            "\u001b[1;31mValueError\u001b[0m: in user code:\n\n    File \"d:\\Anaconda3\\envs\\Deep_Learning\\lib\\site-packages\\keras\\engine\\training.py\", line 1801, in predict_function  *\n        return step_function(self, iterator)\n    File \"d:\\Anaconda3\\envs\\Deep_Learning\\lib\\site-packages\\keras\\engine\\training.py\", line 1790, in step_function  **\n        outputs = model.distribute_strategy.run(run_step, args=(data,))\n    File \"d:\\Anaconda3\\envs\\Deep_Learning\\lib\\site-packages\\keras\\engine\\training.py\", line 1783, in run_step  **\n        outputs = model.predict_step(data)\n    File \"d:\\Anaconda3\\envs\\Deep_Learning\\lib\\site-packages\\keras\\engine\\training.py\", line 1751, in predict_step\n        return self(x, training=False)\n    File \"d:\\Anaconda3\\envs\\Deep_Learning\\lib\\site-packages\\keras\\utils\\traceback_utils.py\", line 67, in error_handler\n        raise e.with_traceback(filtered_tb) from None\n    File \"d:\\Anaconda3\\envs\\Deep_Learning\\lib\\site-packages\\keras\\engine\\input_spec.py\", line 214, in assert_input_compatibility\n        raise ValueError(f'Input {input_index} of layer \"{layer_name}\" '\n\n    ValueError: Exception encountered when calling layer \"sequential_1\" (type Sequential).\n    \n    Input 0 of layer \"bidirectional_1\" is incompatible with the layer: expected ndim=3, found ndim=2. Full shape received: (None, 32)\n    \n    Call arguments received:\n      • inputs=tf.Tensor(shape=(None,), dtype=int64)\n      • training=False\n      • mask=None\n"
          ]
        }
      ],
      "source": [
        "input_text = vectorizer('bego lu')\n",
        "res = model.predict(input_text)\n",
        "(res > 0.5).astype(int)\n",
        "batch_X, batch_y = test.as_numpy_iterator().next()"
      ]
    },
    {
      "cell_type": "code",
      "execution_count": 53,
      "metadata": {},
      "outputs": [
        {
          "ename": "NameError",
          "evalue": "name 'batch_X' is not defined",
          "output_type": "error",
          "traceback": [
            "\u001b[1;31m---------------------------------------------------------------------------\u001b[0m",
            "\u001b[1;31mNameError\u001b[0m                                 Traceback (most recent call last)",
            "\u001b[1;32me:\\USU\\Semester 1-8\\Semester VIII\\Kampus Merdeka\\Bangkit 2022\\Capstone Project\\Repository\\Toxicity_Classifier.ipynb Cell 38'\u001b[0m in \u001b[0;36m<cell line: 1>\u001b[1;34m()\u001b[0m\n\u001b[1;32m----> <a href='vscode-notebook-cell:/e%3A/USU/Semester%201-8/Semester%20VIII/Kampus%20Merdeka/Bangkit%202022/Capstone%20Project/Repository/Toxicity_Classifier.ipynb#ch0000041?line=0'>1</a>\u001b[0m (model\u001b[39m.\u001b[39mpredict(batch_X) \u001b[39m>\u001b[39m \u001b[39m0.5\u001b[39m)\u001b[39m.\u001b[39mastype(\u001b[39mint\u001b[39m)\n\u001b[0;32m      <a href='vscode-notebook-cell:/e%3A/USU/Semester%201-8/Semester%20VIII/Kampus%20Merdeka/Bangkit%202022/Capstone%20Project/Repository/Toxicity_Classifier.ipynb#ch0000041?line=1'>2</a>\u001b[0m res\u001b[39m.\u001b[39mshape\n",
            "\u001b[1;31mNameError\u001b[0m: name 'batch_X' is not defined"
          ]
        }
      ],
      "source": [
        "(model.predict(batch_X) > 0.5).astype(int)\n",
        "res.shape"
      ]
    },
    {
      "cell_type": "markdown",
      "metadata": {
        "id": "W-2jnhzRJngI"
      },
      "source": [
        "# Converting to TensorFlow Lite"
      ]
    },
    {
      "cell_type": "code",
      "execution_count": null,
      "metadata": {
        "id": "7RUgNkTFJrsb"
      },
      "outputs": [],
      "source": []
    }
  ],
  "metadata": {
    "accelerator": "GPU",
    "colab": {
      "collapsed_sections": [],
      "name": "Toxicity_Classifier.ipynb",
      "provenance": []
    },
    "interpreter": {
      "hash": "1343f6b63b394e0cefae72d16c0c7af6c0813e932f1fafcbd2052732f2d555a5"
    },
    "kernelspec": {
      "display_name": "Python 3.10.4 ('Deep_Learning')",
      "language": "python",
      "name": "python3"
    },
    "language_info": {
      "codemirror_mode": {
        "name": "ipython",
        "version": 3
      },
      "file_extension": ".py",
      "mimetype": "text/x-python",
      "name": "python",
      "nbconvert_exporter": "python",
      "pygments_lexer": "ipython3",
      "version": "3.10.4"
    }
  },
  "nbformat": 4,
  "nbformat_minor": 0
}
